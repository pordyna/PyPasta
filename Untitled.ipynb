{
 "cells": [
  {
   "cell_type": "code",
   "execution_count": 12,
   "id": "505afde4-34bd-4837-954b-20b063d18671",
   "metadata": {},
   "outputs": [],
   "source": [
    "from pypasta.ParamDict import ParamDict\n",
    "from pypasta import ureg\n",
    "import tomllib"
   ]
  },
  {
   "cell_type": "code",
   "execution_count": 2,
   "id": "5c9713ce-8c35-4fd8-94dd-4ef3e2ae00c5",
   "metadata": {},
   "outputs": [],
   "source": [
    "params1 = ParamDict({'param1': np.arange(1000) * ureg.Unit('m'), 'param2': np.arange(1000) * ureg.Unit('s')})\n",
    "params2 = ParamDict({'param1': [3,2] * ureg.Unit('m'), 'param2': [40, 50] * ureg.Unit('s')})\n",
    "params3 = ParamDict({'param3': np.arange(1000) * ureg.Unit('m'), 'param4': np.arange(1000) * ureg.Unit('s')})"
   ]
  },
  {
   "cell_type": "code",
   "execution_count": 10,
   "id": "3593ba8a-68bd-4a1e-8c12-12b503264446",
   "metadata": {
    "editable": true,
    "slideshow": {
     "slide_type": ""
    },
    "tags": []
   },
   "outputs": [
    {
     "data": {
      "text/html": [
       "<div>\n",
       "<style scoped>\n",
       "    .dataframe tbody tr th:only-of-type {\n",
       "        vertical-align: middle;\n",
       "    }\n",
       "\n",
       "    .dataframe tbody tr th {\n",
       "        vertical-align: top;\n",
       "    }\n",
       "\n",
       "    .dataframe thead th {\n",
       "        text-align: right;\n",
       "    }\n",
       "</style>\n",
       "<table border=\"1\" class=\"dataframe\">\n",
       "  <thead>\n",
       "    <tr style=\"text-align: right;\">\n",
       "      <th></th>\n",
       "      <th>param1 [m]</th>\n",
       "      <th>param2 [s]</th>\n",
       "      <th>param3 [m]</th>\n",
       "      <th>param4 [s]</th>\n",
       "    </tr>\n",
       "  </thead>\n",
       "  <tbody>\n",
       "    <tr>\n",
       "      <th>0</th>\n",
       "      <td>0</td>\n",
       "      <td>0</td>\n",
       "      <td>0.0</td>\n",
       "      <td>0.0</td>\n",
       "    </tr>\n",
       "    <tr>\n",
       "      <th>1</th>\n",
       "      <td>1</td>\n",
       "      <td>1</td>\n",
       "      <td>0.0</td>\n",
       "      <td>0.0</td>\n",
       "    </tr>\n",
       "    <tr>\n",
       "      <th>2</th>\n",
       "      <td>2</td>\n",
       "      <td>2</td>\n",
       "      <td>0.0</td>\n",
       "      <td>0.0</td>\n",
       "    </tr>\n",
       "    <tr>\n",
       "      <th>3</th>\n",
       "      <td>3</td>\n",
       "      <td>3</td>\n",
       "      <td>0.0</td>\n",
       "      <td>0.0</td>\n",
       "    </tr>\n",
       "    <tr>\n",
       "      <th>4</th>\n",
       "      <td>4</td>\n",
       "      <td>4</td>\n",
       "      <td>0.0</td>\n",
       "      <td>0.0</td>\n",
       "    </tr>\n",
       "    <tr>\n",
       "      <th>...</th>\n",
       "      <td>...</td>\n",
       "      <td>...</td>\n",
       "      <td>...</td>\n",
       "      <td>...</td>\n",
       "    </tr>\n",
       "    <tr>\n",
       "      <th>999995</th>\n",
       "      <td>995</td>\n",
       "      <td>995</td>\n",
       "      <td>999.0</td>\n",
       "      <td>999.0</td>\n",
       "    </tr>\n",
       "    <tr>\n",
       "      <th>999996</th>\n",
       "      <td>996</td>\n",
       "      <td>996</td>\n",
       "      <td>999.0</td>\n",
       "      <td>999.0</td>\n",
       "    </tr>\n",
       "    <tr>\n",
       "      <th>999997</th>\n",
       "      <td>997</td>\n",
       "      <td>997</td>\n",
       "      <td>999.0</td>\n",
       "      <td>999.0</td>\n",
       "    </tr>\n",
       "    <tr>\n",
       "      <th>999998</th>\n",
       "      <td>998</td>\n",
       "      <td>998</td>\n",
       "      <td>999.0</td>\n",
       "      <td>999.0</td>\n",
       "    </tr>\n",
       "    <tr>\n",
       "      <th>999999</th>\n",
       "      <td>999</td>\n",
       "      <td>999</td>\n",
       "      <td>999.0</td>\n",
       "      <td>999.0</td>\n",
       "    </tr>\n",
       "  </tbody>\n",
       "</table>\n",
       "<p>1000000 rows × 4 columns</p>\n",
       "</div>"
      ],
      "text/plain": [
       "        param1 [m]  param2 [s]  param3 [m]  param4 [s]\n",
       "0                0           0         0.0         0.0\n",
       "1                1           1         0.0         0.0\n",
       "2                2           2         0.0         0.0\n",
       "3                3           3         0.0         0.0\n",
       "4                4           4         0.0         0.0\n",
       "...            ...         ...         ...         ...\n",
       "999995         995         995       999.0       999.0\n",
       "999996         996         996       999.0       999.0\n",
       "999997         997         997       999.0       999.0\n",
       "999998         998         998       999.0       999.0\n",
       "999999         999         999       999.0       999.0\n",
       "\n",
       "[1000000 rows x 4 columns]"
      ]
     },
     "execution_count": 10,
     "metadata": {},
     "output_type": "execute_result"
    }
   ],
   "source": [
    "df = (params1 * params3).to_data_frame()\n",
    "df"
   ]
  },
  {
   "cell_type": "code",
   "execution_count": 13,
   "id": "b3ee9693-c74b-4e49-9372-2a53d3f54ec6",
   "metadata": {},
   "outputs": [
    {
     "data": {
      "text/plain": [
       "{'group1': {'type': 'group',\n",
       "  'combine_method': 'product',\n",
       "  'set1': {'type': 'set',\n",
       "   'sampling_method': 'halton',\n",
       "   'bounds': {'prepulse_delay': [0, 2e-11],\n",
       "    'prepulse_a0': [0.068, 0.8328],\n",
       "    'main_pulse_a0': [38, 47]}},\n",
       "  'set2': {'type': 'set',\n",
       "   'sampling_method': 'static',\n",
       "   'units': {'prepulse_direction': 'deg'}}},\n",
       " 'halton_parameters': {'units': {'main_pulse_a0': '',\n",
       "   'prepulse_a0': '',\n",
       "   'prepulse_delay': 's'}},\n",
       " 'gropu1': {'set2': {'values': {'prepulse_direction': [0, 45, 90]}}}}"
      ]
     },
     "execution_count": 13,
     "metadata": {},
     "output_type": "execute_result"
    }
   ],
   "source": [
    "{'group1': {'type': 'group', 'combine_method': 'product', 'set1': {'type': 'set', 'sampling_method': 'halton', 'bounds': {'prepulse_delay': [0, 2e-11], 'prepulse_a0': [0.068, 0.8328], 'main_pulse_a0': [38, 47]}}, 'set2': {'type': 'set', 'sampling_method': 'static', 'units': {'prepulse_direction': 'deg'}}}, 'halton_parameters': {'units': {'main_pulse_a0': '', 'prepulse_a0': '', 'prepulse_delay': 's'}}, 'gropu1': {'set2': {'values': {'prepulse_direction': [0, 45, 90]}}}}\n"
   ]
  },
  {
   "cell_type": "code",
   "execution_count": null,
   "id": "ab222604-5253-4311-9323-f96a3ac808d4",
   "metadata": {},
   "outputs": [],
   "source": []
  }
 ],
 "metadata": {
  "kernelspec": {
   "display_name": "Python 3 (ipykernel)",
   "language": "python",
   "name": "python3"
  },
  "language_info": {
   "codemirror_mode": {
    "name": "ipython",
    "version": 3
   },
   "file_extension": ".py",
   "mimetype": "text/x-python",
   "name": "python",
   "nbconvert_exporter": "python",
   "pygments_lexer": "ipython3",
   "version": "3.12.4"
  }
 },
 "nbformat": 4,
 "nbformat_minor": 5
}
